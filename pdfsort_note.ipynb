{
 "cells": [
  {
   "cell_type": "markdown",
   "id": "3bd0279a",
   "metadata": {},
   "source": [
    "## Here is a project of Python script to manage and organize pages in PDF files."
   ]
  },
  {
   "cell_type": "markdown",
   "id": "f1f481e5",
   "metadata": {},
   "source": [
    ">Developed by [@edyatl](https://github.com/edyatl) February 2023 <edyatl@yandex.ru>"
   ]
  },
  {
   "cell_type": "code",
   "execution_count": 1,
   "id": "a9e26e67",
   "metadata": {},
   "outputs": [
    {
     "data": {
      "application/javascript": [
       "\n",
       "            setTimeout(function() {\n",
       "                var nbb_cell_id = 1;\n",
       "                var nbb_unformatted_code = \"# Load Jupyter extension for auto correction coding style based on Black Lib\\n%load_ext nb_black\";\n",
       "                var nbb_formatted_code = \"# Load Jupyter extension for auto correction coding style based on Black Lib\\n%load_ext nb_black\";\n",
       "                var nbb_cells = Jupyter.notebook.get_cells();\n",
       "                for (var i = 0; i < nbb_cells.length; ++i) {\n",
       "                    if (nbb_cells[i].input_prompt_number == nbb_cell_id) {\n",
       "                        if (nbb_cells[i].get_text() == nbb_unformatted_code) {\n",
       "                             nbb_cells[i].set_text(nbb_formatted_code);\n",
       "                        }\n",
       "                        break;\n",
       "                    }\n",
       "                }\n",
       "            }, 500);\n",
       "            "
      ],
      "text/plain": [
       "<IPython.core.display.Javascript object>"
      ]
     },
     "metadata": {},
     "output_type": "display_data"
    }
   ],
   "source": [
    "# Load Jupyter extension for auto correction coding style based on Black Lib\n",
    "%load_ext nb_black"
   ]
  },
  {
   "cell_type": "markdown",
   "id": "120503c8",
   "metadata": {},
   "source": [
    "### TODO\n",
    "\n",
    "* ~~Collect information on the total number of pages of each format~~\n",
    "* ~~Add dimensions of customer's formats converted from mm~~\n",
    "* ~~Write PDF with pages only one size~~\n",
    "* ~~Recursively get all PDF filenames with full path from a given directory~~\n",
    "* ~~Collect into the Reader content of several pdf files~~"
   ]
  },
  {
   "cell_type": "code",
   "execution_count": 2,
   "id": "2b30cfe6",
   "metadata": {},
   "outputs": [
    {
     "data": {
      "application/javascript": [
       "\n",
       "            setTimeout(function() {\n",
       "                var nbb_cell_id = 2;\n",
       "                var nbb_unformatted_code = \"import os\\nimport glob\\nfrom PyPDF2 import PdfReader, PdfWriter\";\n",
       "                var nbb_formatted_code = \"import os\\nimport glob\\nfrom PyPDF2 import PdfReader, PdfWriter\";\n",
       "                var nbb_cells = Jupyter.notebook.get_cells();\n",
       "                for (var i = 0; i < nbb_cells.length; ++i) {\n",
       "                    if (nbb_cells[i].input_prompt_number == nbb_cell_id) {\n",
       "                        if (nbb_cells[i].get_text() == nbb_unformatted_code) {\n",
       "                             nbb_cells[i].set_text(nbb_formatted_code);\n",
       "                        }\n",
       "                        break;\n",
       "                    }\n",
       "                }\n",
       "            }, 500);\n",
       "            "
      ],
      "text/plain": [
       "<IPython.core.display.Javascript object>"
      ]
     },
     "metadata": {},
     "output_type": "display_data"
    }
   ],
   "source": [
    "import os\n",
    "import glob\n",
    "from PyPDF2 import PdfReader, PdfWriter\n"
   ]
  },
  {
   "cell_type": "code",
   "execution_count": 3,
   "id": "87c99f42",
   "metadata": {},
   "outputs": [
    {
     "data": {
      "application/javascript": [
       "\n",
       "            setTimeout(function() {\n",
       "                var nbb_cell_id = 3;\n",
       "                var nbb_unformatted_code = \"gost_size = [\\n    [\\\"A0\\\", 1189, 841],\\n    [\\\"A1\\\", 841, 594],\\n    [\\\"A2\\\", 594, 420],\\n    [\\\"A3\\\", 420, 297],\\n    [\\\"A4\\\", 297, 210],\\n    [\\\"A4\\u04453\\\", 630, 297],\\n    [\\\"A4\\u04454\\\", 841, 297],\\n    [\\\"A4\\u04455\\\", 1051, 297],\\n    [\\\"A4\\u04456\\\", 1261, 297],\\n    [\\\"A4\\u04457\\\", 1471, 297],\\n    [\\\"A4\\u04458\\\", 1682, 297],\\n    [\\\"A4\\u04459\\\", 1892, 297],\\n    [\\\"A3\\u04453\\\", 891, 420],\\n    [\\\"A3\\u04454\\\", 1189, 420],\\n    [\\\"A3\\u04455\\\", 1486, 420],\\n    [\\\"A3\\u04456\\\", 1783, 420],\\n    [\\\"A3\\u04457\\\", 2080, 420],\\n    [\\\"A2\\u04453\\\", 1261, 594],\\n    [\\\"A2\\u04454\\\", 1682, 594],\\n    [\\\"A2\\u04455\\\", 2102, 594],\\n    [\\\"A1\\u04453\\\", 1783, 841],\\n    [\\\"A1\\u04453\\\", 2378, 841],\\n    [\\\"A0\\u04452\\\", 1682, 1189],\\n    [\\\"A0\\u04453\\\", 2523, 1189],\\n]\\nPaperSizes = {  # add new: ensure that first number is <= second number\\n    \\\"A0\\\": [2384, 3370],\\n    \\\"A1\\\": [1684, 2384],\\n    \\\"A2\\\": [1190, 1684],\\n    \\\"A3\\\": [842, 1190],\\n    \\\"A4\\\": [595, 842],\\n    \\\"A5\\\": [420, 595],\\n    \\\"A6\\\": [298, 420],\\n    \\\"A7\\\": [210, 298],\\n    \\\"A8\\\": [148, 210],\\n    \\\"B0\\\": [2835, 4008],\\n    \\\"B1\\\": [2004, 2835],\\n    \\\"B2\\\": [1417, 2004],\\n    \\\"B3\\\": [1001, 1417],\\n    \\\"B4\\\": [709, 1001],\\n    \\\"B5\\\": [499, 709],\\n    \\\"B6\\\": [354, 499],\\n    \\\"B7\\\": [249, 354],\\n    \\\"B8\\\": [176, 249],\\n    \\\"B9\\\": [125, 176],\\n    \\\"B10\\\": [88, 125],\\n    \\\"C2\\\": [1837, 578],\\n    \\\"C3\\\": [578, 919],\\n    \\\"C4\\\": [919, 649],\\n    \\\"C5\\\": [649, 459],\\n    \\\"C6\\\": [459, 323],\\n    \\\"Invoice\\\": [396, 612],\\n    \\\"Executive\\\": [522, 756],\\n    \\\"Letter\\\": [612, 792],\\n    \\\"Legal\\\": [612, 1008],\\n    \\\"Ledger\\\": [792, 1224],\\n    \\\"A4\\u04453\\\": [842, 1785],\\n    \\\"A4\\u04454\\\": [842, 2383],\\n    \\\"A4\\u04455\\\": [842, 2978],\\n    \\\"A4\\u04456\\\": [842, 3573],\\n    \\\"A4\\u04457\\\": [842, 4168],\\n    \\\"A4\\u04458\\\": [842, 4766],\\n    \\\"A4\\u04459\\\": [842, 5361],\\n    \\\"A3\\u04453\\\": [1190, 2526],\\n    \\\"A3\\u04454\\\": [1190, 3371],\\n    \\\"A3\\u04455\\\": [1190, 4213],\\n    \\\"A3\\u04456\\\": [1190, 5055],\\n    \\\"A3\\u04457\\\": [1190, 5897],\\n    \\\"A2\\u04453\\\": [1684, 3573],\\n    \\\"A2\\u04454\\\": [1684, 4766],\\n    \\\"A2\\u04455\\\": [1684, 5956],\\n    \\\"A1\\u04453\\\": [2384, 5055],\\n    \\\"A1\\u04453\\\": [2384, 6742],\\n    \\\"A0\\u04452\\\": [3370, 4768],\\n    \\\"A0\\u04453\\\": [3370, 7152],\\n}\\n# Add dimensions of customer's formats converted from mm\\n# for fmt in gost_size:\\n#     if len(fmt[0]) > 2 and fmt[0][1:3] == \\\"0\\u0445\\\":\\n#         print(\\n#             f\\\"'{fmt[0]}': [{PaperSizes['A0'][1]}, {fmt[1]/gost_size[0][2]*PaperSizes['A0'][0]:.0f}],\\\"\\n#         )\";\n",
       "                var nbb_formatted_code = \"gost_size = [\\n    [\\\"A0\\\", 1189, 841],\\n    [\\\"A1\\\", 841, 594],\\n    [\\\"A2\\\", 594, 420],\\n    [\\\"A3\\\", 420, 297],\\n    [\\\"A4\\\", 297, 210],\\n    [\\\"A4\\u04453\\\", 630, 297],\\n    [\\\"A4\\u04454\\\", 841, 297],\\n    [\\\"A4\\u04455\\\", 1051, 297],\\n    [\\\"A4\\u04456\\\", 1261, 297],\\n    [\\\"A4\\u04457\\\", 1471, 297],\\n    [\\\"A4\\u04458\\\", 1682, 297],\\n    [\\\"A4\\u04459\\\", 1892, 297],\\n    [\\\"A3\\u04453\\\", 891, 420],\\n    [\\\"A3\\u04454\\\", 1189, 420],\\n    [\\\"A3\\u04455\\\", 1486, 420],\\n    [\\\"A3\\u04456\\\", 1783, 420],\\n    [\\\"A3\\u04457\\\", 2080, 420],\\n    [\\\"A2\\u04453\\\", 1261, 594],\\n    [\\\"A2\\u04454\\\", 1682, 594],\\n    [\\\"A2\\u04455\\\", 2102, 594],\\n    [\\\"A1\\u04453\\\", 1783, 841],\\n    [\\\"A1\\u04453\\\", 2378, 841],\\n    [\\\"A0\\u04452\\\", 1682, 1189],\\n    [\\\"A0\\u04453\\\", 2523, 1189],\\n]\\nPaperSizes = {  # add new: ensure that first number is <= second number\\n    \\\"A0\\\": [2384, 3370],\\n    \\\"A1\\\": [1684, 2384],\\n    \\\"A2\\\": [1190, 1684],\\n    \\\"A3\\\": [842, 1190],\\n    \\\"A4\\\": [595, 842],\\n    \\\"A5\\\": [420, 595],\\n    \\\"A6\\\": [298, 420],\\n    \\\"A7\\\": [210, 298],\\n    \\\"A8\\\": [148, 210],\\n    \\\"B0\\\": [2835, 4008],\\n    \\\"B1\\\": [2004, 2835],\\n    \\\"B2\\\": [1417, 2004],\\n    \\\"B3\\\": [1001, 1417],\\n    \\\"B4\\\": [709, 1001],\\n    \\\"B5\\\": [499, 709],\\n    \\\"B6\\\": [354, 499],\\n    \\\"B7\\\": [249, 354],\\n    \\\"B8\\\": [176, 249],\\n    \\\"B9\\\": [125, 176],\\n    \\\"B10\\\": [88, 125],\\n    \\\"C2\\\": [1837, 578],\\n    \\\"C3\\\": [578, 919],\\n    \\\"C4\\\": [919, 649],\\n    \\\"C5\\\": [649, 459],\\n    \\\"C6\\\": [459, 323],\\n    \\\"Invoice\\\": [396, 612],\\n    \\\"Executive\\\": [522, 756],\\n    \\\"Letter\\\": [612, 792],\\n    \\\"Legal\\\": [612, 1008],\\n    \\\"Ledger\\\": [792, 1224],\\n    \\\"A4\\u04453\\\": [842, 1785],\\n    \\\"A4\\u04454\\\": [842, 2383],\\n    \\\"A4\\u04455\\\": [842, 2978],\\n    \\\"A4\\u04456\\\": [842, 3573],\\n    \\\"A4\\u04457\\\": [842, 4168],\\n    \\\"A4\\u04458\\\": [842, 4766],\\n    \\\"A4\\u04459\\\": [842, 5361],\\n    \\\"A3\\u04453\\\": [1190, 2526],\\n    \\\"A3\\u04454\\\": [1190, 3371],\\n    \\\"A3\\u04455\\\": [1190, 4213],\\n    \\\"A3\\u04456\\\": [1190, 5055],\\n    \\\"A3\\u04457\\\": [1190, 5897],\\n    \\\"A2\\u04453\\\": [1684, 3573],\\n    \\\"A2\\u04454\\\": [1684, 4766],\\n    \\\"A2\\u04455\\\": [1684, 5956],\\n    \\\"A1\\u04453\\\": [2384, 5055],\\n    \\\"A1\\u04453\\\": [2384, 6742],\\n    \\\"A0\\u04452\\\": [3370, 4768],\\n    \\\"A0\\u04453\\\": [3370, 7152],\\n}\\n# Add dimensions of customer's formats converted from mm\\n# for fmt in gost_size:\\n#     if len(fmt[0]) > 2 and fmt[0][1:3] == \\\"0\\u0445\\\":\\n#         print(\\n#             f\\\"'{fmt[0]}': [{PaperSizes['A0'][1]}, {fmt[1]/gost_size[0][2]*PaperSizes['A0'][0]:.0f}],\\\"\\n#         )\";\n",
       "                var nbb_cells = Jupyter.notebook.get_cells();\n",
       "                for (var i = 0; i < nbb_cells.length; ++i) {\n",
       "                    if (nbb_cells[i].input_prompt_number == nbb_cell_id) {\n",
       "                        if (nbb_cells[i].get_text() == nbb_unformatted_code) {\n",
       "                             nbb_cells[i].set_text(nbb_formatted_code);\n",
       "                        }\n",
       "                        break;\n",
       "                    }\n",
       "                }\n",
       "            }, 500);\n",
       "            "
      ],
      "text/plain": [
       "<IPython.core.display.Javascript object>"
      ]
     },
     "metadata": {},
     "output_type": "display_data"
    }
   ],
   "source": [
    "gost_size = [\n",
    "    [\"A0\", 1189, 841],\n",
    "    [\"A1\", 841, 594],\n",
    "    [\"A2\", 594, 420],\n",
    "    [\"A3\", 420, 297],\n",
    "    [\"A4\", 297, 210],\n",
    "    [\"A4х3\", 630, 297],\n",
    "    [\"A4х4\", 841, 297],\n",
    "    [\"A4х5\", 1051, 297],\n",
    "    [\"A4х6\", 1261, 297],\n",
    "    [\"A4х7\", 1471, 297],\n",
    "    [\"A4х8\", 1682, 297],\n",
    "    [\"A4х9\", 1892, 297],\n",
    "    [\"A3х3\", 891, 420],\n",
    "    [\"A3х4\", 1189, 420],\n",
    "    [\"A3х5\", 1486, 420],\n",
    "    [\"A3х6\", 1783, 420],\n",
    "    [\"A3х7\", 2080, 420],\n",
    "    [\"A2х3\", 1261, 594],\n",
    "    [\"A2х4\", 1682, 594],\n",
    "    [\"A2х5\", 2102, 594],\n",
    "    [\"A1х3\", 1783, 841],\n",
    "    [\"A1х3\", 2378, 841],\n",
    "    [\"A0х2\", 1682, 1189],\n",
    "    [\"A0х3\", 2523, 1189],\n",
    "]\n",
    "PaperSizes = {  # add new: ensure that first number is <= second number\n",
    "    \"A0\": [2384, 3370],\n",
    "    \"A1\": [1684, 2384],\n",
    "    \"A2\": [1190, 1684],\n",
    "    \"A3\": [842, 1190],\n",
    "    \"A4\": [595, 842],\n",
    "    \"A5\": [420, 595],\n",
    "    \"A6\": [298, 420],\n",
    "    \"A7\": [210, 298],\n",
    "    \"A8\": [148, 210],\n",
    "    \"B0\": [2835, 4008],\n",
    "    \"B1\": [2004, 2835],\n",
    "    \"B2\": [1417, 2004],\n",
    "    \"B3\": [1001, 1417],\n",
    "    \"B4\": [709, 1001],\n",
    "    \"B5\": [499, 709],\n",
    "    \"B6\": [354, 499],\n",
    "    \"B7\": [249, 354],\n",
    "    \"B8\": [176, 249],\n",
    "    \"B9\": [125, 176],\n",
    "    \"B10\": [88, 125],\n",
    "    \"C2\": [1837, 578],\n",
    "    \"C3\": [578, 919],\n",
    "    \"C4\": [919, 649],\n",
    "    \"C5\": [649, 459],\n",
    "    \"C6\": [459, 323],\n",
    "    \"Invoice\": [396, 612],\n",
    "    \"Executive\": [522, 756],\n",
    "    \"Letter\": [612, 792],\n",
    "    \"Legal\": [612, 1008],\n",
    "    \"Ledger\": [792, 1224],\n",
    "    \"A4х3\": [842, 1785],\n",
    "    \"A4х4\": [842, 2383],\n",
    "    \"A4х5\": [842, 2978],\n",
    "    \"A4х6\": [842, 3573],\n",
    "    \"A4х7\": [842, 4168],\n",
    "    \"A4х8\": [842, 4766],\n",
    "    \"A4х9\": [842, 5361],\n",
    "    \"A3х3\": [1190, 2526],\n",
    "    \"A3х4\": [1190, 3371],\n",
    "    \"A3х5\": [1190, 4213],\n",
    "    \"A3х6\": [1190, 5055],\n",
    "    \"A3х7\": [1190, 5897],\n",
    "    \"A2х3\": [1684, 3573],\n",
    "    \"A2х4\": [1684, 4766],\n",
    "    \"A2х5\": [1684, 5956],\n",
    "    \"A1х3\": [2384, 5055],\n",
    "    \"A1х3\": [2384, 6742],\n",
    "    \"A0х2\": [3370, 4768],\n",
    "    \"A0х3\": [3370, 7152],\n",
    "}\n",
    "# Add dimensions of customer's formats converted from mm\n",
    "# for fmt in gost_size:\n",
    "#     if len(fmt[0]) > 2 and fmt[0][1:3] == \"0х\":\n",
    "#         print(\n",
    "#             f\"'{fmt[0]}': [{PaperSizes['A0'][1]}, {fmt[1]/gost_size[0][2]*PaperSizes['A0'][0]:.0f}],\"\n",
    "#         )"
   ]
  },
  {
   "cell_type": "code",
   "execution_count": 4,
   "id": "5c6bb755",
   "metadata": {},
   "outputs": [
    {
     "data": {
      "application/javascript": [
       "\n",
       "            setTimeout(function() {\n",
       "                var nbb_cell_id = 4;\n",
       "                var nbb_unformatted_code = \"def list_files_recursive(dirpath):\\n    \\\"\\\"\\\"\\n    Recursively get all PDF filenames with full path from a given directory\\n\\n    :param dirpath: str\\n        The directory to start find PDF files recursively with all nested subdirectories.\\n    :return: list\\n        Returns a list of PDF filenames with full paths.\\n    \\\"\\\"\\\"\\n    return glob.glob(\\n        os.path.join(os.path.abspath(dirpath), \\\"**\\\", \\\"*.[pP][dD][fF]\\\"), recursive=True\\n    )\";\n",
       "                var nbb_formatted_code = \"def list_files_recursive(dirpath):\\n    \\\"\\\"\\\"\\n    Recursively get all PDF filenames with full path from a given directory\\n\\n    :param dirpath: str\\n        The directory to start find PDF files recursively with all nested subdirectories.\\n    :return: list\\n        Returns a list of PDF filenames with full paths.\\n    \\\"\\\"\\\"\\n    return glob.glob(\\n        os.path.join(os.path.abspath(dirpath), \\\"**\\\", \\\"*.[pP][dD][fF]\\\"), recursive=True\\n    )\";\n",
       "                var nbb_cells = Jupyter.notebook.get_cells();\n",
       "                for (var i = 0; i < nbb_cells.length; ++i) {\n",
       "                    if (nbb_cells[i].input_prompt_number == nbb_cell_id) {\n",
       "                        if (nbb_cells[i].get_text() == nbb_unformatted_code) {\n",
       "                             nbb_cells[i].set_text(nbb_formatted_code);\n",
       "                        }\n",
       "                        break;\n",
       "                    }\n",
       "                }\n",
       "            }, 500);\n",
       "            "
      ],
      "text/plain": [
       "<IPython.core.display.Javascript object>"
      ]
     },
     "metadata": {},
     "output_type": "display_data"
    }
   ],
   "source": [
    "def list_files_recursive(dirpath):\n",
    "    \"\"\"\n",
    "    Recursively get all PDF filenames with full path from a given directory\n",
    "\n",
    "    :param dirpath: str\n",
    "        The directory to start find PDF files recursively with all nested subdirectories.\n",
    "    :return: list\n",
    "        Returns a list of PDF filenames with full paths.\n",
    "    \"\"\"\n",
    "    return glob.glob(\n",
    "        os.path.join(os.path.abspath(dirpath), \"**\", \"*.[pP][dD][fF]\"), recursive=True\n",
    "    )"
   ]
  },
  {
   "cell_type": "code",
   "execution_count": 5,
   "id": "2ad50d43",
   "metadata": {},
   "outputs": [
    {
     "data": {
      "application/javascript": [
       "\n",
       "            setTimeout(function() {\n",
       "                var nbb_cell_id = 5;\n",
       "                var nbb_unformatted_code = \"def collect_pdf_content(file_paths: list) -> list:\\n    \\\"\\\"\\\"\\n    Collect into the Reader content of several pdf files.\\n\\n    :param file_paths: list\\n        A list of PDF filenames with full paths.\\n    :return: list\\n        Returns the list of pages from all PDF files received from `file_paths` param.\\n    \\\"\\\"\\\"\\n    all_pages = []\\n    for file_path in file_paths:\\n        reader = PdfReader(file_path)\\n        all_pages.extend(reader.pages)\\n    return all_pages\";\n",
       "                var nbb_formatted_code = \"def collect_pdf_content(file_paths: list) -> list:\\n    \\\"\\\"\\\"\\n    Collect into the Reader content of several pdf files.\\n\\n    :param file_paths: list\\n        A list of PDF filenames with full paths.\\n    :return: list\\n        Returns the list of pages from all PDF files received from `file_paths` param.\\n    \\\"\\\"\\\"\\n    all_pages = []\\n    for file_path in file_paths:\\n        reader = PdfReader(file_path)\\n        all_pages.extend(reader.pages)\\n    return all_pages\";\n",
       "                var nbb_cells = Jupyter.notebook.get_cells();\n",
       "                for (var i = 0; i < nbb_cells.length; ++i) {\n",
       "                    if (nbb_cells[i].input_prompt_number == nbb_cell_id) {\n",
       "                        if (nbb_cells[i].get_text() == nbb_unformatted_code) {\n",
       "                             nbb_cells[i].set_text(nbb_formatted_code);\n",
       "                        }\n",
       "                        break;\n",
       "                    }\n",
       "                }\n",
       "            }, 500);\n",
       "            "
      ],
      "text/plain": [
       "<IPython.core.display.Javascript object>"
      ]
     },
     "metadata": {},
     "output_type": "display_data"
    }
   ],
   "source": [
    "def collect_pdf_content(file_paths: list) -> list:\n",
    "    \"\"\"\n",
    "    Collect into the Reader content of several pdf files.\n",
    "\n",
    "    :param file_paths: list\n",
    "        A list of PDF filenames with full paths.\n",
    "    :return: list\n",
    "        Returns the list of pages from all PDF files received from `file_paths` param.\n",
    "    \"\"\"\n",
    "    all_pages = []\n",
    "    for file_path in file_paths:\n",
    "        reader = PdfReader(file_path)\n",
    "        all_pages.extend(reader.pages)\n",
    "    return all_pages"
   ]
  },
  {
   "cell_type": "code",
   "execution_count": 6,
   "id": "3f33e53b",
   "metadata": {},
   "outputs": [
    {
     "data": {
      "application/javascript": [
       "\n",
       "            setTimeout(function() {\n",
       "                var nbb_cell_id = 6;\n",
       "                var nbb_unformatted_code = \"def find_fmt(iwidth: float, iheight: float, orient: bool = True) -> str:\\n    \\\"\\\"\\\"\\n    Determine the page format from the `PaperSizes` dictionary, based on the given width and height.\\n\\n    :param iwidth: float\\n        Input width.\\n    :param iheight: float\\n        Input height.\\n    :param orient: bool, optional\\n        Determine the paper orientation (default is True).\\n    :return: str\\n        Returns the standard page format or the approximately closest format.\\n    \\\"\\\"\\\"\\n    width: int = int(round(iwidth, 0))\\n    height: int = int(round(iheight, 0))\\n\\n    w1, h1 = (width, height) if iwidth <= iheight else (height, width)\\n\\n    str_width, str_height = str(w1), str(h1)\\n\\n    distances = {\\n        (abs(w1 - s[0]) + abs(h1 - s[1])): key for key, s in PaperSizes.items()\\n    }\\n    closest_distance = min(distances.keys())\\n    paper_size_key = distances[closest_distance]\\n\\n    if iwidth <= iheight:\\n        paper_orientation = paper_size_key + \\\"-P\\\" if orient else paper_size_key\\n        paper_size_str = (\\n            f\\\"{PaperSizes[paper_size_key][0]}x{PaperSizes[paper_size_key][1]}\\\"\\n        )\\n    else:\\n        paper_orientation = paper_size_key + \\\"-L\\\" if orient else paper_size_key\\n        paper_size_str = (\\n            f\\\"{PaperSizes[paper_size_key][1]}x{PaperSizes[paper_size_key][0]}\\\"\\n        )\\n\\n    if closest_distance >= 0 and closest_distance <= 2:\\n        return paper_orientation\\n\\n    return f\\\"{str_width}x{str_height} ~{paper_orientation}({paper_size_str})\\\"\";\n",
       "                var nbb_formatted_code = \"def find_fmt(iwidth: float, iheight: float, orient: bool = True) -> str:\\n    \\\"\\\"\\\"\\n    Determine the page format from the `PaperSizes` dictionary, based on the given width and height.\\n\\n    :param iwidth: float\\n        Input width.\\n    :param iheight: float\\n        Input height.\\n    :param orient: bool, optional\\n        Determine the paper orientation (default is True).\\n    :return: str\\n        Returns the standard page format or the approximately closest format.\\n    \\\"\\\"\\\"\\n    width: int = int(round(iwidth, 0))\\n    height: int = int(round(iheight, 0))\\n\\n    w1, h1 = (width, height) if iwidth <= iheight else (height, width)\\n\\n    str_width, str_height = str(w1), str(h1)\\n\\n    distances = {\\n        (abs(w1 - s[0]) + abs(h1 - s[1])): key for key, s in PaperSizes.items()\\n    }\\n    closest_distance = min(distances.keys())\\n    paper_size_key = distances[closest_distance]\\n\\n    if iwidth <= iheight:\\n        paper_orientation = paper_size_key + \\\"-P\\\" if orient else paper_size_key\\n        paper_size_str = (\\n            f\\\"{PaperSizes[paper_size_key][0]}x{PaperSizes[paper_size_key][1]}\\\"\\n        )\\n    else:\\n        paper_orientation = paper_size_key + \\\"-L\\\" if orient else paper_size_key\\n        paper_size_str = (\\n            f\\\"{PaperSizes[paper_size_key][1]}x{PaperSizes[paper_size_key][0]}\\\"\\n        )\\n\\n    if closest_distance >= 0 and closest_distance <= 2:\\n        return paper_orientation\\n\\n    return f\\\"{str_width}x{str_height} ~{paper_orientation}({paper_size_str})\\\"\";\n",
       "                var nbb_cells = Jupyter.notebook.get_cells();\n",
       "                for (var i = 0; i < nbb_cells.length; ++i) {\n",
       "                    if (nbb_cells[i].input_prompt_number == nbb_cell_id) {\n",
       "                        if (nbb_cells[i].get_text() == nbb_unformatted_code) {\n",
       "                             nbb_cells[i].set_text(nbb_formatted_code);\n",
       "                        }\n",
       "                        break;\n",
       "                    }\n",
       "                }\n",
       "            }, 500);\n",
       "            "
      ],
      "text/plain": [
       "<IPython.core.display.Javascript object>"
      ]
     },
     "metadata": {},
     "output_type": "display_data"
    }
   ],
   "source": [
    "def find_fmt(iwidth: float, iheight: float, orient: bool = True) -> str:\n",
    "    \"\"\"\n",
    "    Determine the page format from the `PaperSizes` dictionary, based on the given width and height.\n",
    "\n",
    "    :param iwidth: float\n",
    "        Input width.\n",
    "    :param iheight: float\n",
    "        Input height.\n",
    "    :param orient: bool, optional\n",
    "        Determine the paper orientation (default is True).\n",
    "    :return: str\n",
    "        Returns the standard page format or the approximately closest format.\n",
    "    \"\"\"\n",
    "    width: int = int(round(iwidth, 0))\n",
    "    height: int = int(round(iheight, 0))\n",
    "\n",
    "    w1, h1 = (width, height) if iwidth <= iheight else (height, width)\n",
    "\n",
    "    str_width, str_height = str(w1), str(h1)\n",
    "\n",
    "    distances = {\n",
    "        (abs(w1 - s[0]) + abs(h1 - s[1])): key for key, s in PaperSizes.items()\n",
    "    }\n",
    "    closest_distance = min(distances.keys())\n",
    "    paper_size_key = distances[closest_distance]\n",
    "\n",
    "    if iwidth <= iheight:\n",
    "        paper_orientation = paper_size_key + \"-P\" if orient else paper_size_key\n",
    "        paper_size_str = (\n",
    "            f\"{PaperSizes[paper_size_key][0]}x{PaperSizes[paper_size_key][1]}\"\n",
    "        )\n",
    "    else:\n",
    "        paper_orientation = paper_size_key + \"-L\" if orient else paper_size_key\n",
    "        paper_size_str = (\n",
    "            f\"{PaperSizes[paper_size_key][1]}x{PaperSizes[paper_size_key][0]}\"\n",
    "        )\n",
    "\n",
    "    if closest_distance >= 0 and closest_distance <= 2:\n",
    "        return paper_orientation\n",
    "\n",
    "    return f\"{str_width}x{str_height} ~{paper_orientation}({paper_size_str})\""
   ]
  },
  {
   "cell_type": "code",
   "execution_count": 7,
   "id": "455c8579",
   "metadata": {},
   "outputs": [
    {
     "data": {
      "application/javascript": [
       "\n",
       "            setTimeout(function() {\n",
       "                var nbb_cell_id = 7;\n",
       "                var nbb_unformatted_code = \"def get_format_info(pages: list) -> dict:\\n    \\\"\\\"\\\"\\n    Collect information of the total number of pages for each format into a dict.\\n\\n    :param pages: list\\n        A list of PDF pages.\\n    :return: dict\\n        Returns the dictionary where page format as a key and their amount as a value.\\n    \\\"\\\"\\\"\\n    format_info = {}\\n    for pg in pages:\\n        fmt = find_fmt(pg.mediabox.width, pg.mediabox.height, False)\\n        if fmt in format_info:\\n            format_info[fmt] += 1\\n        else:\\n            format_info[fmt] = 1\\n    return format_info\";\n",
       "                var nbb_formatted_code = \"def get_format_info(pages: list) -> dict:\\n    \\\"\\\"\\\"\\n    Collect information of the total number of pages for each format into a dict.\\n\\n    :param pages: list\\n        A list of PDF pages.\\n    :return: dict\\n        Returns the dictionary where page format as a key and their amount as a value.\\n    \\\"\\\"\\\"\\n    format_info = {}\\n    for pg in pages:\\n        fmt = find_fmt(pg.mediabox.width, pg.mediabox.height, False)\\n        if fmt in format_info:\\n            format_info[fmt] += 1\\n        else:\\n            format_info[fmt] = 1\\n    return format_info\";\n",
       "                var nbb_cells = Jupyter.notebook.get_cells();\n",
       "                for (var i = 0; i < nbb_cells.length; ++i) {\n",
       "                    if (nbb_cells[i].input_prompt_number == nbb_cell_id) {\n",
       "                        if (nbb_cells[i].get_text() == nbb_unformatted_code) {\n",
       "                             nbb_cells[i].set_text(nbb_formatted_code);\n",
       "                        }\n",
       "                        break;\n",
       "                    }\n",
       "                }\n",
       "            }, 500);\n",
       "            "
      ],
      "text/plain": [
       "<IPython.core.display.Javascript object>"
      ]
     },
     "metadata": {},
     "output_type": "display_data"
    }
   ],
   "source": [
    "def get_format_info(pages: list) -> dict:\n",
    "    \"\"\"\n",
    "    Collect information of the total number of pages for each format into a dict.\n",
    "\n",
    "    :param pages: list\n",
    "        A list of PDF pages.\n",
    "    :return: dict\n",
    "        Returns the dictionary where page format as a key and their amount as a value.\n",
    "    \"\"\"\n",
    "    format_info = {}\n",
    "    for pg in pages:\n",
    "        fmt = find_fmt(pg.mediabox.width, pg.mediabox.height, False)\n",
    "        if fmt in format_info:\n",
    "            format_info[fmt] += 1\n",
    "        else:\n",
    "            format_info[fmt] = 1\n",
    "    return format_info"
   ]
  },
  {
   "cell_type": "code",
   "execution_count": 8,
   "id": "e091cabe",
   "metadata": {},
   "outputs": [
    {
     "data": {
      "application/javascript": [
       "\n",
       "            setTimeout(function() {\n",
       "                var nbb_cell_id = 8;\n",
       "                var nbb_unformatted_code = \"def draw_format_info_tab(format_info: dict):\\n    \\\"\\\"\\\"\\n    Draw a table with pages formats and their amount from a given dictionary.\\n\\n    :param format_info: dict\\n        A dictionary where page format as a key and their amount as a value.\\n    \\\"\\\"\\\" \\n    print(\\\"{:>27} {:>9}\\\\n{}  --------\\\".format(\\\"Format\\\", \\\"Count\\\", (\\\"-\\\" * 27)))\\n    for fmt, cnt in sorted(format_info.items()):\\n        print(f\\\"{fmt:>27} {cnt:>9}\\\")\";\n",
       "                var nbb_formatted_code = \"def draw_format_info_tab(format_info: dict):\\n    \\\"\\\"\\\"\\n    Draw a table with pages formats and their amount from a given dictionary.\\n\\n    :param format_info: dict\\n        A dictionary where page format as a key and their amount as a value.\\n    \\\"\\\"\\\"\\n    print(\\\"{:>27} {:>9}\\\\n{}  --------\\\".format(\\\"Format\\\", \\\"Count\\\", (\\\"-\\\" * 27)))\\n    for fmt, cnt in sorted(format_info.items()):\\n        print(f\\\"{fmt:>27} {cnt:>9}\\\")\";\n",
       "                var nbb_cells = Jupyter.notebook.get_cells();\n",
       "                for (var i = 0; i < nbb_cells.length; ++i) {\n",
       "                    if (nbb_cells[i].input_prompt_number == nbb_cell_id) {\n",
       "                        if (nbb_cells[i].get_text() == nbb_unformatted_code) {\n",
       "                             nbb_cells[i].set_text(nbb_formatted_code);\n",
       "                        }\n",
       "                        break;\n",
       "                    }\n",
       "                }\n",
       "            }, 500);\n",
       "            "
      ],
      "text/plain": [
       "<IPython.core.display.Javascript object>"
      ]
     },
     "metadata": {},
     "output_type": "display_data"
    }
   ],
   "source": [
    "def draw_format_info_tab(format_info: dict):\n",
    "    \"\"\"\n",
    "    Draw a table with pages formats and their amount from a given dictionary.\n",
    "\n",
    "    :param format_info: dict\n",
    "        A dictionary where page format as a key and their amount as a value.\n",
    "    \"\"\"\n",
    "    print(\"{:>27} {:>9}\\n{}  --------\".format(\"Format\", \"Count\", (\"-\" * 27)))\n",
    "    for fmt, cnt in sorted(format_info.items()):\n",
    "        print(f\"{fmt:>27} {cnt:>9}\")"
   ]
  },
  {
   "cell_type": "code",
   "execution_count": 9,
   "id": "aac295a9",
   "metadata": {},
   "outputs": [
    {
     "data": {
      "application/javascript": [
       "\n",
       "            setTimeout(function() {\n",
       "                var nbb_cell_id = 9;\n",
       "                var nbb_unformatted_code = \"def subwrite_limit_fmt_file(\\n    fmt: str, pages: list, start: int, stop: int, i: int, meta: dict\\n):\\n    \\\"\\\"\\\"\\n    Write PDF file with pages only one size (format) in group of files\\n    splited with indexis for a limit number of pages. \\n    Subfunction of write_fmt_file() \\n\\n    :param fmt: str\\n        A page format as string value.\\n    :param pages: list\\n        A list of PDF pages.\\n    :param start: int\\n        Starting index of pages list slice.\\n    :param stop: int\\n        Ending index of pages list slice.\\n    :param i: int\\n        Increment of current iteration to add index to a filename.\\n    :param meta: dict\\n        Dictionary with metadata for output PDF file.\\n    \\\"\\\"\\\"\\n    subwriter = PdfWriter()\\n    for wpg in pages[start:stop]:\\n        subwriter.add_page(wpg)\\n\\n    subwriter.add_metadata(meta)\\n\\n    # Save the new PDF to a file with index\\n    with open(f\\\"current_dir_{fmt}_pdf-{i}.pdf\\\", \\\"wb\\\") as f:\\n        subwriter.write(f)\\n    subwriter.close()\";\n",
       "                var nbb_formatted_code = \"def subwrite_limit_fmt_file(\\n    fmt: str, pages: list, start: int, stop: int, i: int, meta: dict\\n):\\n    \\\"\\\"\\\"\\n    Write PDF file with pages only one size (format) in group of files\\n    splited with indexis for a limit number of pages.\\n    Subfunction of write_fmt_file()\\n\\n    :param fmt: str\\n        A page format as string value.\\n    :param pages: list\\n        A list of PDF pages.\\n    :param start: int\\n        Starting index of pages list slice.\\n    :param stop: int\\n        Ending index of pages list slice.\\n    :param i: int\\n        Increment of current iteration to add index to a filename.\\n    :param meta: dict\\n        Dictionary with metadata for output PDF file.\\n    \\\"\\\"\\\"\\n    subwriter = PdfWriter()\\n    for wpg in pages[start:stop]:\\n        subwriter.add_page(wpg)\\n\\n    subwriter.add_metadata(meta)\\n\\n    # Save the new PDF to a file with index\\n    with open(f\\\"current_dir_{fmt}_pdf-{i}.pdf\\\", \\\"wb\\\") as f:\\n        subwriter.write(f)\\n    subwriter.close()\";\n",
       "                var nbb_cells = Jupyter.notebook.get_cells();\n",
       "                for (var i = 0; i < nbb_cells.length; ++i) {\n",
       "                    if (nbb_cells[i].input_prompt_number == nbb_cell_id) {\n",
       "                        if (nbb_cells[i].get_text() == nbb_unformatted_code) {\n",
       "                             nbb_cells[i].set_text(nbb_formatted_code);\n",
       "                        }\n",
       "                        break;\n",
       "                    }\n",
       "                }\n",
       "            }, 500);\n",
       "            "
      ],
      "text/plain": [
       "<IPython.core.display.Javascript object>"
      ]
     },
     "metadata": {},
     "output_type": "display_data"
    }
   ],
   "source": [
    "def subwrite_limit_fmt_file(\n",
    "    fmt: str, pages: list, start: int, stop: int, i: int, meta: dict\n",
    "):\n",
    "    \"\"\"\n",
    "    Write PDF file with pages only one size (format) in group of files\n",
    "    splited with indexis for a limit number of pages.\n",
    "    Subfunction of write_fmt_file()\n",
    "\n",
    "    :param fmt: str\n",
    "        A page format as string value.\n",
    "    :param pages: list\n",
    "        A list of PDF pages.\n",
    "    :param start: int\n",
    "        Starting index of pages list slice.\n",
    "    :param stop: int\n",
    "        Ending index of pages list slice.\n",
    "    :param i: int\n",
    "        Increment of current iteration to add index to a filename.\n",
    "    :param meta: dict\n",
    "        Dictionary with metadata for output PDF file.\n",
    "    \"\"\"\n",
    "    subwriter = PdfWriter()\n",
    "    for wpg in pages[start:stop]:\n",
    "        subwriter.add_page(wpg)\n",
    "\n",
    "    subwriter.add_metadata(meta)\n",
    "\n",
    "    # Save the new PDF to a file with index\n",
    "    with open(f\"current_dir_{fmt}_pdf-{i}.pdf\", \"wb\") as f:\n",
    "        subwriter.write(f)\n",
    "    subwriter.close()"
   ]
  },
  {
   "cell_type": "code",
   "execution_count": 10,
   "id": "e427cc05",
   "metadata": {},
   "outputs": [
    {
     "data": {
      "application/javascript": [
       "\n",
       "            setTimeout(function() {\n",
       "                var nbb_cell_id = 10;\n",
       "                var nbb_unformatted_code = \"def write_fmt_file(fmt: str, pages: list, limit: int = 0):\\n    \\\"\\\"\\\"\\n    Write PDF files with pages only one size (format) or \\n    if `limit` param is given call subfunction subwrite_limit_fmt_file()\\n    to write splited files with indexis for a limit number of pages.\\n\\n    :param fmt: str\\n        A page format as string value.\\n    :param pages: list\\n        A list of PDF pages.\\n    :param limit: int, optional\\n        Number of maximum alowed pages per one output file.\\n    \\\"\\\"\\\"\\n    writer = PdfWriter()\\n    for pg in pages:\\n        if find_fmt(pg.mediabox.width, pg.mediabox.height, False) == fmt:\\n            writer.add_page(pg)\\n\\n    # Add the metadata\\n    metadata = {\\n        \\\"/Creator\\\": \\\"PDFSort\\\",\\n        \\\"/Producer\\\": \\\"PDFSort\\\",\\n    }\\n    writer.add_metadata(metadata)\\n\\n    if limit > 0 and limit < len(writer.pages):\\n        np: int = len(writer.pages)\\n        fnum: int = np // limit + 1\\n        start: int = 0\\n        stop: int = limit\\n        for i in range(fnum):\\n            subwrite_limit_fmt_file(\\n                fmt, writer.pages, start, stop if stop <= np else np, i, metadata\\n            )\\n            start += limit\\n            stop += limit\\n    else:\\n        # Save the new PDF to a file\\n        with open(f\\\"current_dir_{fmt}_pdf.pdf\\\", \\\"wb\\\") as f:\\n            writer.write(f)\\n    writer.close()\";\n",
       "                var nbb_formatted_code = \"def write_fmt_file(fmt: str, pages: list, limit: int = 0):\\n    \\\"\\\"\\\"\\n    Write PDF files with pages only one size (format) or\\n    if `limit` param is given call subfunction subwrite_limit_fmt_file()\\n    to write splited files with indexis for a limit number of pages.\\n\\n    :param fmt: str\\n        A page format as string value.\\n    :param pages: list\\n        A list of PDF pages.\\n    :param limit: int, optional\\n        Number of maximum alowed pages per one output file.\\n    \\\"\\\"\\\"\\n    writer = PdfWriter()\\n    for pg in pages:\\n        if find_fmt(pg.mediabox.width, pg.mediabox.height, False) == fmt:\\n            writer.add_page(pg)\\n\\n    # Add the metadata\\n    metadata = {\\n        \\\"/Creator\\\": \\\"PDFSort\\\",\\n        \\\"/Producer\\\": \\\"PDFSort\\\",\\n    }\\n    writer.add_metadata(metadata)\\n\\n    if limit > 0 and limit < len(writer.pages):\\n        np: int = len(writer.pages)\\n        fnum: int = np // limit + 1\\n        start: int = 0\\n        stop: int = limit\\n        for i in range(fnum):\\n            subwrite_limit_fmt_file(\\n                fmt, writer.pages, start, stop if stop <= np else np, i, metadata\\n            )\\n            start += limit\\n            stop += limit\\n    else:\\n        # Save the new PDF to a file\\n        with open(f\\\"current_dir_{fmt}_pdf.pdf\\\", \\\"wb\\\") as f:\\n            writer.write(f)\\n    writer.close()\";\n",
       "                var nbb_cells = Jupyter.notebook.get_cells();\n",
       "                for (var i = 0; i < nbb_cells.length; ++i) {\n",
       "                    if (nbb_cells[i].input_prompt_number == nbb_cell_id) {\n",
       "                        if (nbb_cells[i].get_text() == nbb_unformatted_code) {\n",
       "                             nbb_cells[i].set_text(nbb_formatted_code);\n",
       "                        }\n",
       "                        break;\n",
       "                    }\n",
       "                }\n",
       "            }, 500);\n",
       "            "
      ],
      "text/plain": [
       "<IPython.core.display.Javascript object>"
      ]
     },
     "metadata": {},
     "output_type": "display_data"
    }
   ],
   "source": [
    "def write_fmt_file(fmt: str, pages: list, limit: int = 0):\n",
    "    \"\"\"\n",
    "    Write PDF files with pages only one size (format) or\n",
    "    if `limit` param is given call subfunction subwrite_limit_fmt_file()\n",
    "    to write splited files with indexis for a limit number of pages.\n",
    "\n",
    "    :param fmt: str\n",
    "        A page format as string value.\n",
    "    :param pages: list\n",
    "        A list of PDF pages.\n",
    "    :param limit: int, optional\n",
    "        Number of maximum alowed pages per one output file.\n",
    "    \"\"\"\n",
    "    writer = PdfWriter()\n",
    "    for pg in pages:\n",
    "        if find_fmt(pg.mediabox.width, pg.mediabox.height, False) == fmt:\n",
    "            writer.add_page(pg)\n",
    "\n",
    "    # Add the metadata\n",
    "    metadata = {\n",
    "        \"/Creator\": \"PDFSort\",\n",
    "        \"/Producer\": \"PDFSort\",\n",
    "    }\n",
    "    writer.add_metadata(metadata)\n",
    "\n",
    "    if limit > 0 and limit < len(writer.pages):\n",
    "        np: int = len(writer.pages)\n",
    "        fnum: int = np // limit + 1\n",
    "        start: int = 0\n",
    "        stop: int = limit\n",
    "        for i in range(fnum):\n",
    "            subwrite_limit_fmt_file(\n",
    "                fmt, writer.pages, start, stop if stop <= np else np, i, metadata\n",
    "            )\n",
    "            start += limit\n",
    "            stop += limit\n",
    "    else:\n",
    "        # Save the new PDF to a file\n",
    "        with open(f\"current_dir_{fmt}_pdf.pdf\", \"wb\") as f:\n",
    "            writer.write(f)\n",
    "    writer.close()"
   ]
  },
  {
   "cell_type": "code",
   "execution_count": 11,
   "id": "922a37af",
   "metadata": {},
   "outputs": [
    {
     "data": {
      "application/javascript": [
       "\n",
       "            setTimeout(function() {\n",
       "                var nbb_cell_id = 11;\n",
       "                var nbb_unformatted_code = \"# Load PDF file with full path\\npdf_src = os.path.join(os.path.abspath(\\\"../\\\"), \\\"\\u0448\\u0430\\u0431\\u043b\\u043e\\u043d/Binder1.pdf\\\")\";\n",
       "                var nbb_formatted_code = \"# Load PDF file with full path\\npdf_src = os.path.join(os.path.abspath(\\\"../\\\"), \\\"\\u0448\\u0430\\u0431\\u043b\\u043e\\u043d/Binder1.pdf\\\")\";\n",
       "                var nbb_cells = Jupyter.notebook.get_cells();\n",
       "                for (var i = 0; i < nbb_cells.length; ++i) {\n",
       "                    if (nbb_cells[i].input_prompt_number == nbb_cell_id) {\n",
       "                        if (nbb_cells[i].get_text() == nbb_unformatted_code) {\n",
       "                             nbb_cells[i].set_text(nbb_formatted_code);\n",
       "                        }\n",
       "                        break;\n",
       "                    }\n",
       "                }\n",
       "            }, 500);\n",
       "            "
      ],
      "text/plain": [
       "<IPython.core.display.Javascript object>"
      ]
     },
     "metadata": {},
     "output_type": "display_data"
    }
   ],
   "source": [
    "# Load PDF file with full path\n",
    "pdf_src = os.path.join(os.path.abspath(\"../\"), \"шаблон/Binder1.pdf\")"
   ]
  },
  {
   "cell_type": "code",
   "execution_count": 12,
   "id": "4c22ee1a",
   "metadata": {},
   "outputs": [
    {
     "name": "stdout",
     "output_type": "stream",
     "text": [
      "                     Format     Count\n",
      "---------------------------  --------\n",
      "                         A0         3\n",
      "                         A1         1\n",
      "                         A2         1\n",
      "                         A4         3\n"
     ]
    },
    {
     "data": {
      "application/javascript": [
       "\n",
       "            setTimeout(function() {\n",
       "                var nbb_cell_id = 12;\n",
       "                var nbb_unformatted_code = \"# Determine pages formats from file above, count and draw results table\\nformat_info = get_format_info(collect_pdf_content([pdf_src]))\\ndraw_format_info_tab(format_info)\";\n",
       "                var nbb_formatted_code = \"# Determine pages formats from file above, count and draw results table\\nformat_info = get_format_info(collect_pdf_content([pdf_src]))\\ndraw_format_info_tab(format_info)\";\n",
       "                var nbb_cells = Jupyter.notebook.get_cells();\n",
       "                for (var i = 0; i < nbb_cells.length; ++i) {\n",
       "                    if (nbb_cells[i].input_prompt_number == nbb_cell_id) {\n",
       "                        if (nbb_cells[i].get_text() == nbb_unformatted_code) {\n",
       "                             nbb_cells[i].set_text(nbb_formatted_code);\n",
       "                        }\n",
       "                        break;\n",
       "                    }\n",
       "                }\n",
       "            }, 500);\n",
       "            "
      ],
      "text/plain": [
       "<IPython.core.display.Javascript object>"
      ]
     },
     "metadata": {},
     "output_type": "display_data"
    }
   ],
   "source": [
    "# Determine pages formats from file above, count and draw results table\n",
    "format_info = get_format_info(collect_pdf_content([pdf_src]))\n",
    "draw_format_info_tab(format_info)"
   ]
  },
  {
   "cell_type": "code",
   "execution_count": 13,
   "id": "ed39c28b",
   "metadata": {},
   "outputs": [
    {
     "name": "stdout",
     "output_type": "stream",
     "text": [
      "A4\n",
      "A2\n",
      "A0\n",
      "A1\n"
     ]
    },
    {
     "data": {
      "application/javascript": [
       "\n",
       "            setTimeout(function() {\n",
       "                var nbb_cell_id = 13;\n",
       "                var nbb_unformatted_code = \"# Write files for each page format in `format_info` dictionaty\\nfor fmt in format_info:\\n    print(fmt)\\n    write_fmt_file(fmt, collect_pdf_content([pdf_src]), 2)\";\n",
       "                var nbb_formatted_code = \"# Write files for each page format in `format_info` dictionaty\\nfor fmt in format_info:\\n    print(fmt)\\n    write_fmt_file(fmt, collect_pdf_content([pdf_src]), 2)\";\n",
       "                var nbb_cells = Jupyter.notebook.get_cells();\n",
       "                for (var i = 0; i < nbb_cells.length; ++i) {\n",
       "                    if (nbb_cells[i].input_prompt_number == nbb_cell_id) {\n",
       "                        if (nbb_cells[i].get_text() == nbb_unformatted_code) {\n",
       "                             nbb_cells[i].set_text(nbb_formatted_code);\n",
       "                        }\n",
       "                        break;\n",
       "                    }\n",
       "                }\n",
       "            }, 500);\n",
       "            "
      ],
      "text/plain": [
       "<IPython.core.display.Javascript object>"
      ]
     },
     "metadata": {},
     "output_type": "display_data"
    }
   ],
   "source": [
    "# Write files for each page format in `format_info` dictionaty\n",
    "for fmt in format_info:\n",
    "    print(fmt)\n",
    "    write_fmt_file(fmt, collect_pdf_content([pdf_src]), 2)"
   ]
  },
  {
   "cell_type": "code",
   "execution_count": 14,
   "id": "40a7cf67",
   "metadata": {},
   "outputs": [
    {
     "name": "stdout",
     "output_type": "stream",
     "text": [
      "                     Format     Count\n",
      "---------------------------  --------\n",
      "       128x128 ~B10(88x125)         3\n",
      "         72x72 ~B10(88x125)        30\n",
      "                         A0         6\n",
      "                         A1         2\n",
      "                         A2         2\n",
      "                         A4         6\n",
      "                     Letter        27\n"
     ]
    },
    {
     "data": {
      "application/javascript": [
       "\n",
       "            setTimeout(function() {\n",
       "                var nbb_cell_id = 14;\n",
       "                var nbb_unformatted_code = \"# Determine pages formats for list of files, count and draw results table\\ndraw_format_info_tab(\\n    get_format_info(collect_pdf_content(list_files_recursive(\\\"../../\\\")))\\n)\";\n",
       "                var nbb_formatted_code = \"# Determine pages formats for list of files, count and draw results table\\ndraw_format_info_tab(\\n    get_format_info(collect_pdf_content(list_files_recursive(\\\"../../\\\")))\\n)\";\n",
       "                var nbb_cells = Jupyter.notebook.get_cells();\n",
       "                for (var i = 0; i < nbb_cells.length; ++i) {\n",
       "                    if (nbb_cells[i].input_prompt_number == nbb_cell_id) {\n",
       "                        if (nbb_cells[i].get_text() == nbb_unformatted_code) {\n",
       "                             nbb_cells[i].set_text(nbb_formatted_code);\n",
       "                        }\n",
       "                        break;\n",
       "                    }\n",
       "                }\n",
       "            }, 500);\n",
       "            "
      ],
      "text/plain": [
       "<IPython.core.display.Javascript object>"
      ]
     },
     "metadata": {},
     "output_type": "display_data"
    }
   ],
   "source": [
    "# Determine pages formats for list of files, count and draw results table\n",
    "draw_format_info_tab(\n",
    "    get_format_info(collect_pdf_content(list_files_recursive(\"../../\")))\n",
    ")"
   ]
  },
  {
   "cell_type": "code",
   "execution_count": 15,
   "id": "928b97fa",
   "metadata": {},
   "outputs": [
    {
     "data": {
      "text/plain": [
       "45"
      ]
     },
     "execution_count": 15,
     "metadata": {},
     "output_type": "execute_result"
    },
    {
     "data": {
      "application/javascript": [
       "\n",
       "            setTimeout(function() {\n",
       "                var nbb_cell_id = 15;\n",
       "                var nbb_unformatted_code = \"len(list_files_recursive(\\\"../../\\\"))\";\n",
       "                var nbb_formatted_code = \"len(list_files_recursive(\\\"../../\\\"))\";\n",
       "                var nbb_cells = Jupyter.notebook.get_cells();\n",
       "                for (var i = 0; i < nbb_cells.length; ++i) {\n",
       "                    if (nbb_cells[i].input_prompt_number == nbb_cell_id) {\n",
       "                        if (nbb_cells[i].get_text() == nbb_unformatted_code) {\n",
       "                             nbb_cells[i].set_text(nbb_formatted_code);\n",
       "                        }\n",
       "                        break;\n",
       "                    }\n",
       "                }\n",
       "            }, 500);\n",
       "            "
      ],
      "text/plain": [
       "<IPython.core.display.Javascript object>"
      ]
     },
     "metadata": {},
     "output_type": "display_data"
    }
   ],
   "source": [
    "len(list_files_recursive(\"../../\"))"
   ]
  },
  {
   "cell_type": "code",
   "execution_count": 16,
   "id": "e7cd9959",
   "metadata": {},
   "outputs": [
    {
     "data": {
      "application/javascript": [
       "\n",
       "            setTimeout(function() {\n",
       "                var nbb_cell_id = 16;\n",
       "                var nbb_unformatted_code = \"# Install a pip package in the current Jupyter kernel\\n# import sys\\n\\n# !{sys.executable} -m pip install -U PyPDF2\";\n",
       "                var nbb_formatted_code = \"# Install a pip package in the current Jupyter kernel\\n# import sys\\n\\n# !{sys.executable} -m pip install -U PyPDF2\";\n",
       "                var nbb_cells = Jupyter.notebook.get_cells();\n",
       "                for (var i = 0; i < nbb_cells.length; ++i) {\n",
       "                    if (nbb_cells[i].input_prompt_number == nbb_cell_id) {\n",
       "                        if (nbb_cells[i].get_text() == nbb_unformatted_code) {\n",
       "                             nbb_cells[i].set_text(nbb_formatted_code);\n",
       "                        }\n",
       "                        break;\n",
       "                    }\n",
       "                }\n",
       "            }, 500);\n",
       "            "
      ],
      "text/plain": [
       "<IPython.core.display.Javascript object>"
      ]
     },
     "metadata": {},
     "output_type": "display_data"
    }
   ],
   "source": [
    "# Install a pip package in the current Jupyter kernel\n",
    "# import sys\n",
    "\n",
    "# !{sys.executable} -m pip install -U PyPDF2"
   ]
  },
  {
   "cell_type": "code",
   "execution_count": null,
   "id": "5a3e415a",
   "metadata": {},
   "outputs": [],
   "source": []
  }
 ],
 "metadata": {
  "kernelspec": {
   "display_name": "venv",
   "language": "python",
   "name": "venv"
  },
  "language_info": {
   "codemirror_mode": {
    "name": "ipython",
    "version": 3
   },
   "file_extension": ".py",
   "mimetype": "text/x-python",
   "name": "python",
   "nbconvert_exporter": "python",
   "pygments_lexer": "ipython3",
   "version": "3.6.13"
  }
 },
 "nbformat": 4,
 "nbformat_minor": 5
}
