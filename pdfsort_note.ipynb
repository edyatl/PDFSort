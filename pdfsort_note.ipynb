{
 "cells": [
  {
   "cell_type": "markdown",
   "id": "3591f07a",
   "metadata": {},
   "source": [
    "## Here is a project of Python script to manage and organize pages in PDF files."
   ]
  },
  {
   "cell_type": "markdown",
   "id": "39bd136d",
   "metadata": {},
   "source": [
    ">Developed by [@edyatl](https://github.com/edyatl) February 2023 <edyatl@yandex.ru>"
   ]
  },
  {
   "cell_type": "code",
   "execution_count": 1,
   "id": "320b30f3",
   "metadata": {},
   "outputs": [
    {
     "data": {
      "application/javascript": [
       "\n",
       "            setTimeout(function() {\n",
       "                var nbb_cell_id = 1;\n",
       "                var nbb_unformatted_code = \"# Load Jupyter extension for auto correction coding style based on Black Lib\\n%load_ext nb_black\";\n",
       "                var nbb_formatted_code = \"# Load Jupyter extension for auto correction coding style based on Black Lib\\n%load_ext nb_black\";\n",
       "                var nbb_cells = Jupyter.notebook.get_cells();\n",
       "                for (var i = 0; i < nbb_cells.length; ++i) {\n",
       "                    if (nbb_cells[i].input_prompt_number == nbb_cell_id) {\n",
       "                        if (nbb_cells[i].get_text() == nbb_unformatted_code) {\n",
       "                             nbb_cells[i].set_text(nbb_formatted_code);\n",
       "                        }\n",
       "                        break;\n",
       "                    }\n",
       "                }\n",
       "            }, 500);\n",
       "            "
      ],
      "text/plain": [
       "<IPython.core.display.Javascript object>"
      ]
     },
     "metadata": {},
     "output_type": "display_data"
    }
   ],
   "source": [
    "# Load Jupyter extension for auto correction coding style based on Black Lib\n",
    "%load_ext nb_black"
   ]
  },
  {
   "cell_type": "code",
   "execution_count": 2,
   "id": "ac546b9b",
   "metadata": {},
   "outputs": [
    {
     "data": {
      "application/javascript": [
       "\n",
       "            setTimeout(function() {\n",
       "                var nbb_cell_id = 2;\n",
       "                var nbb_unformatted_code = \"# Install a pip package in the current Jupyter kernel\\n# import sys\\n\\n# !{sys.executable} -m pip install -U PyPDF2\";\n",
       "                var nbb_formatted_code = \"# Install a pip package in the current Jupyter kernel\\n# import sys\\n\\n# !{sys.executable} -m pip install -U PyPDF2\";\n",
       "                var nbb_cells = Jupyter.notebook.get_cells();\n",
       "                for (var i = 0; i < nbb_cells.length; ++i) {\n",
       "                    if (nbb_cells[i].input_prompt_number == nbb_cell_id) {\n",
       "                        if (nbb_cells[i].get_text() == nbb_unformatted_code) {\n",
       "                             nbb_cells[i].set_text(nbb_formatted_code);\n",
       "                        }\n",
       "                        break;\n",
       "                    }\n",
       "                }\n",
       "            }, 500);\n",
       "            "
      ],
      "text/plain": [
       "<IPython.core.display.Javascript object>"
      ]
     },
     "metadata": {},
     "output_type": "display_data"
    }
   ],
   "source": [
    "# Install a pip package in the current Jupyter kernel\n",
    "# import sys\n",
    "\n",
    "# !{sys.executable} -m pip install -U PyPDF2"
   ]
  },
  {
   "cell_type": "code",
   "execution_count": 23,
   "id": "fa620906",
   "metadata": {},
   "outputs": [
    {
     "data": {
      "application/javascript": [
       "\n",
       "            setTimeout(function() {\n",
       "                var nbb_cell_id = 23;\n",
       "                var nbb_unformatted_code = \"import os\\nimport glob\\nfrom PyPDF2 import PdfReader, PdfWriter\";\n",
       "                var nbb_formatted_code = \"import os\\nimport glob\\nfrom PyPDF2 import PdfReader, PdfWriter\";\n",
       "                var nbb_cells = Jupyter.notebook.get_cells();\n",
       "                for (var i = 0; i < nbb_cells.length; ++i) {\n",
       "                    if (nbb_cells[i].input_prompt_number == nbb_cell_id) {\n",
       "                        if (nbb_cells[i].get_text() == nbb_unformatted_code) {\n",
       "                             nbb_cells[i].set_text(nbb_formatted_code);\n",
       "                        }\n",
       "                        break;\n",
       "                    }\n",
       "                }\n",
       "            }, 500);\n",
       "            "
      ],
      "text/plain": [
       "<IPython.core.display.Javascript object>"
      ]
     },
     "metadata": {},
     "output_type": "display_data"
    }
   ],
   "source": [
    "import os\n",
    "import glob\n",
    "from PyPDF2 import PdfReader, PdfWriter\n"
   ]
  },
  {
   "cell_type": "code",
   "execution_count": 4,
   "id": "6c5c1c6a",
   "metadata": {},
   "outputs": [
    {
     "data": {
      "application/javascript": [
       "\n",
       "            setTimeout(function() {\n",
       "                var nbb_cell_id = 4;\n",
       "                var nbb_unformatted_code = \"gost_size = [\\n    [\\\"A0\\\", 1189, 841],\\n    [\\\"A1\\\", 841, 594],\\n    [\\\"A2\\\", 594, 420],\\n    [\\\"A3\\\", 420, 297],\\n    [\\\"A4\\\", 297, 210],\\n    [\\\"A4\\u04453\\\", 630, 297],\\n    [\\\"A4\\u04454\\\", 841, 297],\\n    [\\\"A4\\u04455\\\", 1051, 297],\\n    [\\\"A4\\u04456\\\", 1261, 297],\\n    [\\\"A4\\u04457\\\", 1471, 297],\\n    [\\\"A4\\u04458\\\", 1682, 297],\\n    [\\\"A4\\u04459\\\", 1892, 297],\\n    [\\\"A3\\u04453\\\", 891, 420],\\n    [\\\"A3\\u04454\\\", 1189, 420],\\n    [\\\"A3\\u04455\\\", 1486, 420],\\n    [\\\"A3\\u04456\\\", 1783, 420],\\n    [\\\"A3\\u04457\\\", 2080, 420],\\n    [\\\"A2\\u04453\\\", 1261, 594],\\n    [\\\"A2\\u04454\\\", 1682, 594],\\n    [\\\"A2\\u04455\\\", 2102, 594],\\n    [\\\"A1\\u04453\\\", 1783, 841],\\n    [\\\"A1\\u04453\\\", 2378, 841],\\n    [\\\"A0\\u04452\\\", 1682, 1189],\\n    [\\\"A0\\u04453\\\", 2523, 1189],\\n]\\nPaperSizes = {  # add new: ensure that first number is <= second number\\n    \\\"A0\\\": [2384, 3370],\\n    \\\"A1\\\": [1684, 2384],\\n    \\\"A2\\\": [1190, 1684],\\n    \\\"A3\\\": [842, 1190],\\n    \\\"A4\\\": [595, 842],\\n    \\\"A5\\\": [420, 595],\\n    \\\"A6\\\": [298, 420],\\n    \\\"A7\\\": [210, 298],\\n    \\\"A8\\\": [148, 210],\\n    \\\"B0\\\": [2835, 4008],\\n    \\\"B1\\\": [2004, 2835],\\n    \\\"B2\\\": [1417, 2004],\\n    \\\"B3\\\": [1001, 1417],\\n    \\\"B4\\\": [709, 1001],\\n    \\\"B5\\\": [499, 709],\\n    \\\"B6\\\": [354, 499],\\n    \\\"B7\\\": [249, 354],\\n    \\\"B8\\\": [176, 249],\\n    \\\"B9\\\": [125, 176],\\n    \\\"B10\\\": [88, 125],\\n    \\\"C2\\\": [1837, 578],\\n    \\\"C3\\\": [578, 919],\\n    \\\"C4\\\": [919, 649],\\n    \\\"C5\\\": [649, 459],\\n    \\\"C6\\\": [459, 323],\\n    \\\"Invoice\\\": [396, 612],\\n    \\\"Executive\\\": [522, 756],\\n    \\\"Letter\\\": [612, 792],\\n    \\\"Legal\\\": [612, 1008],\\n    \\\"Ledger\\\": [792, 1224],\\n    \\\"A4\\u04453\\\": [842, 1785],\\n    \\\"A4\\u04454\\\": [842, 2383],\\n    \\\"A4\\u04455\\\": [842, 2978],\\n    \\\"A4\\u04456\\\": [842, 3573],\\n    \\\"A4\\u04457\\\": [842, 4168],\\n    \\\"A4\\u04458\\\": [842, 4766],\\n    \\\"A4\\u04459\\\": [842, 5361],\\n    \\\"A3\\u04453\\\": [1190, 2526],\\n    \\\"A3\\u04454\\\": [1190, 3371],\\n    \\\"A3\\u04455\\\": [1190, 4213],\\n    \\\"A3\\u04456\\\": [1190, 5055],\\n    \\\"A3\\u04457\\\": [1190, 5897],\\n    \\\"A2\\u04453\\\": [1684, 3573],\\n    \\\"A2\\u04454\\\": [1684, 4766],\\n    \\\"A2\\u04455\\\": [1684, 5956],\\n    \\\"A1\\u04453\\\": [2384, 5055],\\n    \\\"A1\\u04453\\\": [2384, 6742],\\n    \\\"A0\\u04452\\\": [3370, 4768],\\n    \\\"A0\\u04453\\\": [3370, 7152],\\n}\\n# Add dimensions of customer's formats converted from mm\\n# for fmt in gost_size:\\n#     if len(fmt[0]) > 2 and fmt[0][1:3] == \\\"0\\u0445\\\":\\n#         print(\\n#             f\\\"'{fmt[0]}': [{PaperSizes['A0'][1]}, {fmt[1]/gost_size[0][2]*PaperSizes['A0'][0]:.0f}],\\\"\\n#         )\";\n",
       "                var nbb_formatted_code = \"gost_size = [\\n    [\\\"A0\\\", 1189, 841],\\n    [\\\"A1\\\", 841, 594],\\n    [\\\"A2\\\", 594, 420],\\n    [\\\"A3\\\", 420, 297],\\n    [\\\"A4\\\", 297, 210],\\n    [\\\"A4\\u04453\\\", 630, 297],\\n    [\\\"A4\\u04454\\\", 841, 297],\\n    [\\\"A4\\u04455\\\", 1051, 297],\\n    [\\\"A4\\u04456\\\", 1261, 297],\\n    [\\\"A4\\u04457\\\", 1471, 297],\\n    [\\\"A4\\u04458\\\", 1682, 297],\\n    [\\\"A4\\u04459\\\", 1892, 297],\\n    [\\\"A3\\u04453\\\", 891, 420],\\n    [\\\"A3\\u04454\\\", 1189, 420],\\n    [\\\"A3\\u04455\\\", 1486, 420],\\n    [\\\"A3\\u04456\\\", 1783, 420],\\n    [\\\"A3\\u04457\\\", 2080, 420],\\n    [\\\"A2\\u04453\\\", 1261, 594],\\n    [\\\"A2\\u04454\\\", 1682, 594],\\n    [\\\"A2\\u04455\\\", 2102, 594],\\n    [\\\"A1\\u04453\\\", 1783, 841],\\n    [\\\"A1\\u04453\\\", 2378, 841],\\n    [\\\"A0\\u04452\\\", 1682, 1189],\\n    [\\\"A0\\u04453\\\", 2523, 1189],\\n]\\nPaperSizes = {  # add new: ensure that first number is <= second number\\n    \\\"A0\\\": [2384, 3370],\\n    \\\"A1\\\": [1684, 2384],\\n    \\\"A2\\\": [1190, 1684],\\n    \\\"A3\\\": [842, 1190],\\n    \\\"A4\\\": [595, 842],\\n    \\\"A5\\\": [420, 595],\\n    \\\"A6\\\": [298, 420],\\n    \\\"A7\\\": [210, 298],\\n    \\\"A8\\\": [148, 210],\\n    \\\"B0\\\": [2835, 4008],\\n    \\\"B1\\\": [2004, 2835],\\n    \\\"B2\\\": [1417, 2004],\\n    \\\"B3\\\": [1001, 1417],\\n    \\\"B4\\\": [709, 1001],\\n    \\\"B5\\\": [499, 709],\\n    \\\"B6\\\": [354, 499],\\n    \\\"B7\\\": [249, 354],\\n    \\\"B8\\\": [176, 249],\\n    \\\"B9\\\": [125, 176],\\n    \\\"B10\\\": [88, 125],\\n    \\\"C2\\\": [1837, 578],\\n    \\\"C3\\\": [578, 919],\\n    \\\"C4\\\": [919, 649],\\n    \\\"C5\\\": [649, 459],\\n    \\\"C6\\\": [459, 323],\\n    \\\"Invoice\\\": [396, 612],\\n    \\\"Executive\\\": [522, 756],\\n    \\\"Letter\\\": [612, 792],\\n    \\\"Legal\\\": [612, 1008],\\n    \\\"Ledger\\\": [792, 1224],\\n    \\\"A4\\u04453\\\": [842, 1785],\\n    \\\"A4\\u04454\\\": [842, 2383],\\n    \\\"A4\\u04455\\\": [842, 2978],\\n    \\\"A4\\u04456\\\": [842, 3573],\\n    \\\"A4\\u04457\\\": [842, 4168],\\n    \\\"A4\\u04458\\\": [842, 4766],\\n    \\\"A4\\u04459\\\": [842, 5361],\\n    \\\"A3\\u04453\\\": [1190, 2526],\\n    \\\"A3\\u04454\\\": [1190, 3371],\\n    \\\"A3\\u04455\\\": [1190, 4213],\\n    \\\"A3\\u04456\\\": [1190, 5055],\\n    \\\"A3\\u04457\\\": [1190, 5897],\\n    \\\"A2\\u04453\\\": [1684, 3573],\\n    \\\"A2\\u04454\\\": [1684, 4766],\\n    \\\"A2\\u04455\\\": [1684, 5956],\\n    \\\"A1\\u04453\\\": [2384, 5055],\\n    \\\"A1\\u04453\\\": [2384, 6742],\\n    \\\"A0\\u04452\\\": [3370, 4768],\\n    \\\"A0\\u04453\\\": [3370, 7152],\\n}\\n# Add dimensions of customer's formats converted from mm\\n# for fmt in gost_size:\\n#     if len(fmt[0]) > 2 and fmt[0][1:3] == \\\"0\\u0445\\\":\\n#         print(\\n#             f\\\"'{fmt[0]}': [{PaperSizes['A0'][1]}, {fmt[1]/gost_size[0][2]*PaperSizes['A0'][0]:.0f}],\\\"\\n#         )\";\n",
       "                var nbb_cells = Jupyter.notebook.get_cells();\n",
       "                for (var i = 0; i < nbb_cells.length; ++i) {\n",
       "                    if (nbb_cells[i].input_prompt_number == nbb_cell_id) {\n",
       "                        if (nbb_cells[i].get_text() == nbb_unformatted_code) {\n",
       "                             nbb_cells[i].set_text(nbb_formatted_code);\n",
       "                        }\n",
       "                        break;\n",
       "                    }\n",
       "                }\n",
       "            }, 500);\n",
       "            "
      ],
      "text/plain": [
       "<IPython.core.display.Javascript object>"
      ]
     },
     "metadata": {},
     "output_type": "display_data"
    }
   ],
   "source": [
    "gost_size = [\n",
    "    [\"A0\", 1189, 841],\n",
    "    [\"A1\", 841, 594],\n",
    "    [\"A2\", 594, 420],\n",
    "    [\"A3\", 420, 297],\n",
    "    [\"A4\", 297, 210],\n",
    "    [\"A4х3\", 630, 297],\n",
    "    [\"A4х4\", 841, 297],\n",
    "    [\"A4х5\", 1051, 297],\n",
    "    [\"A4х6\", 1261, 297],\n",
    "    [\"A4х7\", 1471, 297],\n",
    "    [\"A4х8\", 1682, 297],\n",
    "    [\"A4х9\", 1892, 297],\n",
    "    [\"A3х3\", 891, 420],\n",
    "    [\"A3х4\", 1189, 420],\n",
    "    [\"A3х5\", 1486, 420],\n",
    "    [\"A3х6\", 1783, 420],\n",
    "    [\"A3х7\", 2080, 420],\n",
    "    [\"A2х3\", 1261, 594],\n",
    "    [\"A2х4\", 1682, 594],\n",
    "    [\"A2х5\", 2102, 594],\n",
    "    [\"A1х3\", 1783, 841],\n",
    "    [\"A1х3\", 2378, 841],\n",
    "    [\"A0х2\", 1682, 1189],\n",
    "    [\"A0х3\", 2523, 1189],\n",
    "]\n",
    "PaperSizes = {  # add new: ensure that first number is <= second number\n",
    "    \"A0\": [2384, 3370],\n",
    "    \"A1\": [1684, 2384],\n",
    "    \"A2\": [1190, 1684],\n",
    "    \"A3\": [842, 1190],\n",
    "    \"A4\": [595, 842],\n",
    "    \"A5\": [420, 595],\n",
    "    \"A6\": [298, 420],\n",
    "    \"A7\": [210, 298],\n",
    "    \"A8\": [148, 210],\n",
    "    \"B0\": [2835, 4008],\n",
    "    \"B1\": [2004, 2835],\n",
    "    \"B2\": [1417, 2004],\n",
    "    \"B3\": [1001, 1417],\n",
    "    \"B4\": [709, 1001],\n",
    "    \"B5\": [499, 709],\n",
    "    \"B6\": [354, 499],\n",
    "    \"B7\": [249, 354],\n",
    "    \"B8\": [176, 249],\n",
    "    \"B9\": [125, 176],\n",
    "    \"B10\": [88, 125],\n",
    "    \"C2\": [1837, 578],\n",
    "    \"C3\": [578, 919],\n",
    "    \"C4\": [919, 649],\n",
    "    \"C5\": [649, 459],\n",
    "    \"C6\": [459, 323],\n",
    "    \"Invoice\": [396, 612],\n",
    "    \"Executive\": [522, 756],\n",
    "    \"Letter\": [612, 792],\n",
    "    \"Legal\": [612, 1008],\n",
    "    \"Ledger\": [792, 1224],\n",
    "    \"A4х3\": [842, 1785],\n",
    "    \"A4х4\": [842, 2383],\n",
    "    \"A4х5\": [842, 2978],\n",
    "    \"A4х6\": [842, 3573],\n",
    "    \"A4х7\": [842, 4168],\n",
    "    \"A4х8\": [842, 4766],\n",
    "    \"A4х9\": [842, 5361],\n",
    "    \"A3х3\": [1190, 2526],\n",
    "    \"A3х4\": [1190, 3371],\n",
    "    \"A3х5\": [1190, 4213],\n",
    "    \"A3х6\": [1190, 5055],\n",
    "    \"A3х7\": [1190, 5897],\n",
    "    \"A2х3\": [1684, 3573],\n",
    "    \"A2х4\": [1684, 4766],\n",
    "    \"A2х5\": [1684, 5956],\n",
    "    \"A1х3\": [2384, 5055],\n",
    "    \"A1х3\": [2384, 6742],\n",
    "    \"A0х2\": [3370, 4768],\n",
    "    \"A0х3\": [3370, 7152],\n",
    "}\n",
    "# Add dimensions of customer's formats converted from mm\n",
    "# for fmt in gost_size:\n",
    "#     if len(fmt[0]) > 2 and fmt[0][1:3] == \"0х\":\n",
    "#         print(\n",
    "#             f\"'{fmt[0]}': [{PaperSizes['A0'][1]}, {fmt[1]/gost_size[0][2]*PaperSizes['A0'][0]:.0f}],\"\n",
    "#         )"
   ]
  },
  {
   "cell_type": "code",
   "execution_count": 5,
   "id": "5f963420",
   "metadata": {},
   "outputs": [
    {
     "data": {
      "application/javascript": [
       "\n",
       "            setTimeout(function() {\n",
       "                var nbb_cell_id = 5;\n",
       "                var nbb_unformatted_code = \"pdf_src = os.path.join(os.path.abspath(\\\"../\\\"), \\\"\\u0448\\u0430\\u0431\\u043b\\u043e\\u043d/Binder1.pdf\\\")\";\n",
       "                var nbb_formatted_code = \"pdf_src = os.path.join(os.path.abspath(\\\"../\\\"), \\\"\\u0448\\u0430\\u0431\\u043b\\u043e\\u043d/Binder1.pdf\\\")\";\n",
       "                var nbb_cells = Jupyter.notebook.get_cells();\n",
       "                for (var i = 0; i < nbb_cells.length; ++i) {\n",
       "                    if (nbb_cells[i].input_prompt_number == nbb_cell_id) {\n",
       "                        if (nbb_cells[i].get_text() == nbb_unformatted_code) {\n",
       "                             nbb_cells[i].set_text(nbb_formatted_code);\n",
       "                        }\n",
       "                        break;\n",
       "                    }\n",
       "                }\n",
       "            }, 500);\n",
       "            "
      ],
      "text/plain": [
       "<IPython.core.display.Javascript object>"
      ]
     },
     "metadata": {},
     "output_type": "display_data"
    }
   ],
   "source": [
    "pdf_src = os.path.join(os.path.abspath(\"../\"), \"шаблон/Binder1.pdf\")"
   ]
  },
  {
   "cell_type": "markdown",
   "id": "3f68bd6d",
   "metadata": {},
   "source": [
    "### TODO\n",
    "\n",
    "* ~~Collect information on the total number of pages of each format~~\n",
    "* ~~Add dimensions of customer's formats converted from mm~~\n",
    "* ~~Write PDF with pages only one size~~\n",
    "* Recursively get all PDF filenames with full path from a given directory"
   ]
  },
  {
   "cell_type": "code",
   "execution_count": 8,
   "id": "9517a137",
   "metadata": {},
   "outputs": [
    {
     "data": {
      "application/javascript": [
       "\n",
       "            setTimeout(function() {\n",
       "                var nbb_cell_id = 8;\n",
       "                var nbb_unformatted_code = \"def find_fmt(w, h, orient: bool = True):\\n    wi = int(round(w, 0))\\n    hi = int(round(h, 0))\\n    if w <= h:\\n        w1 = wi\\n        h1 = hi\\n    else:\\n        w1 = hi\\n        h1 = wi\\n\\n    sw = str(w1)\\n    sh = str(h1)\\n    stab = {(abs(w1 - s[0]) + abs(h1 - s[1])): key for key, s in PaperSizes.items()}\\n\\n    small = min(stab.keys())\\n    f = stab[small]\\n\\n    if w <= h:\\n        ff = f + \\\"-P\\\" if orient else f\\n        ss = str(PaperSizes[f][0]) + \\\" x \\\" + str(PaperSizes[f][1])\\n    else:\\n        ff = f + \\\"-L\\\" if orient else f\\n        ss = str(PaperSizes[f][1]) + \\\" x \\\" + str(PaperSizes[f][0])\\n\\n    if small == 0 or small == 1:  # exact fit\\n        return ff\\n    rtxt = f\\\"{sw} x {sh} (other), closest: {ff} = {ss}\\\"  # else show best fit\\n    return rtxt\";\n",
       "                var nbb_formatted_code = \"def find_fmt(w, h, orient: bool = True):\\n    wi = int(round(w, 0))\\n    hi = int(round(h, 0))\\n    if w <= h:\\n        w1 = wi\\n        h1 = hi\\n    else:\\n        w1 = hi\\n        h1 = wi\\n\\n    sw = str(w1)\\n    sh = str(h1)\\n    stab = {(abs(w1 - s[0]) + abs(h1 - s[1])): key for key, s in PaperSizes.items()}\\n\\n    small = min(stab.keys())\\n    f = stab[small]\\n\\n    if w <= h:\\n        ff = f + \\\"-P\\\" if orient else f\\n        ss = str(PaperSizes[f][0]) + \\\" x \\\" + str(PaperSizes[f][1])\\n    else:\\n        ff = f + \\\"-L\\\" if orient else f\\n        ss = str(PaperSizes[f][1]) + \\\" x \\\" + str(PaperSizes[f][0])\\n\\n    if small == 0 or small == 1:  # exact fit\\n        return ff\\n    rtxt = f\\\"{sw} x {sh} (other), closest: {ff} = {ss}\\\"  # else show best fit\\n    return rtxt\";\n",
       "                var nbb_cells = Jupyter.notebook.get_cells();\n",
       "                for (var i = 0; i < nbb_cells.length; ++i) {\n",
       "                    if (nbb_cells[i].input_prompt_number == nbb_cell_id) {\n",
       "                        if (nbb_cells[i].get_text() == nbb_unformatted_code) {\n",
       "                             nbb_cells[i].set_text(nbb_formatted_code);\n",
       "                        }\n",
       "                        break;\n",
       "                    }\n",
       "                }\n",
       "            }, 500);\n",
       "            "
      ],
      "text/plain": [
       "<IPython.core.display.Javascript object>"
      ]
     },
     "metadata": {},
     "output_type": "display_data"
    }
   ],
   "source": [
    "def find_fmt(w, h, orient: bool = True):\n",
    "    wi = int(round(w, 0))\n",
    "    hi = int(round(h, 0))\n",
    "    if w <= h:\n",
    "        w1 = wi\n",
    "        h1 = hi\n",
    "    else:\n",
    "        w1 = hi\n",
    "        h1 = wi\n",
    "\n",
    "    sw = str(w1)\n",
    "    sh = str(h1)\n",
    "    stab = {(abs(w1 - s[0]) + abs(h1 - s[1])): key for key, s in PaperSizes.items()}\n",
    "\n",
    "    small = min(stab.keys())\n",
    "    f = stab[small]\n",
    "\n",
    "    if w <= h:\n",
    "        ff = f + \"-P\" if orient else f\n",
    "        ss = str(PaperSizes[f][0]) + \" x \" + str(PaperSizes[f][1])\n",
    "    else:\n",
    "        ff = f + \"-L\" if orient else f\n",
    "        ss = str(PaperSizes[f][1]) + \" x \" + str(PaperSizes[f][0])\n",
    "\n",
    "    if small == 0 or small == 1:  # exact fit\n",
    "        return ff\n",
    "    rtxt = f\"{sw} x {sh} (other), closest: {ff} = {ss}\"  # else show best fit\n",
    "    return rtxt"
   ]
  },
  {
   "cell_type": "code",
   "execution_count": 40,
   "id": "5266a544",
   "metadata": {},
   "outputs": [
    {
     "data": {
      "application/javascript": [
       "\n",
       "            setTimeout(function() {\n",
       "                var nbb_cell_id = 40;\n",
       "                var nbb_unformatted_code = \"# Collect information on the total number of pages of each format\\ndef get_format_info(file_path):\\n    reader = PdfReader(file_path)\\n    format_info = {}\\n    for pg in reader.pages:\\n        fmt = find_fmt(pg.mediabox.width, pg.mediabox.height, False)\\n        if fmt in format_info:\\n            format_info[fmt] += 1\\n        else:\\n            format_info[fmt] = 1\\n\\n    print(\\\"{:^9} {:^9}\\\\n--------  --------\\\".format(\\\"Format\\\", \\\"Count\\\"))\\n    for fmt, cnt in sorted(format_info.items()):\\n        print(f\\\"{fmt:^9} {cnt:^9}\\\")\\n    return format_info\";\n",
       "                var nbb_formatted_code = \"# Collect information on the total number of pages of each format\\ndef get_format_info(file_path):\\n    reader = PdfReader(file_path)\\n    format_info = {}\\n    for pg in reader.pages:\\n        fmt = find_fmt(pg.mediabox.width, pg.mediabox.height, False)\\n        if fmt in format_info:\\n            format_info[fmt] += 1\\n        else:\\n            format_info[fmt] = 1\\n\\n    print(\\\"{:^9} {:^9}\\\\n--------  --------\\\".format(\\\"Format\\\", \\\"Count\\\"))\\n    for fmt, cnt in sorted(format_info.items()):\\n        print(f\\\"{fmt:^9} {cnt:^9}\\\")\\n    return format_info\";\n",
       "                var nbb_cells = Jupyter.notebook.get_cells();\n",
       "                for (var i = 0; i < nbb_cells.length; ++i) {\n",
       "                    if (nbb_cells[i].input_prompt_number == nbb_cell_id) {\n",
       "                        if (nbb_cells[i].get_text() == nbb_unformatted_code) {\n",
       "                             nbb_cells[i].set_text(nbb_formatted_code);\n",
       "                        }\n",
       "                        break;\n",
       "                    }\n",
       "                }\n",
       "            }, 500);\n",
       "            "
      ],
      "text/plain": [
       "<IPython.core.display.Javascript object>"
      ]
     },
     "metadata": {},
     "output_type": "display_data"
    }
   ],
   "source": [
    "# Collect information on the total number of pages of each format\n",
    "def get_format_info(file_path):\n",
    "    reader = PdfReader(file_path)\n",
    "    format_info = {}\n",
    "    for pg in reader.pages:\n",
    "        fmt = find_fmt(pg.mediabox.width, pg.mediabox.height, False)\n",
    "        if fmt in format_info:\n",
    "            format_info[fmt] += 1\n",
    "        else:\n",
    "            format_info[fmt] = 1\n",
    "\n",
    "    print(\"{:^9} {:^9}\\n--------  --------\".format(\"Format\", \"Count\"))\n",
    "    for fmt, cnt in sorted(format_info.items()):\n",
    "        print(f\"{fmt:^9} {cnt:^9}\")\n",
    "    return format_info"
   ]
  },
  {
   "cell_type": "code",
   "execution_count": 41,
   "id": "7e556beb",
   "metadata": {},
   "outputs": [
    {
     "name": "stdout",
     "output_type": "stream",
     "text": [
      " Format     Count  \n",
      "--------  --------\n",
      "   A0         3    \n",
      "   A1         1    \n",
      "   A2         1    \n",
      "   A4         3    \n"
     ]
    },
    {
     "data": {
      "application/javascript": [
       "\n",
       "            setTimeout(function() {\n",
       "                var nbb_cell_id = 41;\n",
       "                var nbb_unformatted_code = \"format_info = get_format_info(pdf_src)\";\n",
       "                var nbb_formatted_code = \"format_info = get_format_info(pdf_src)\";\n",
       "                var nbb_cells = Jupyter.notebook.get_cells();\n",
       "                for (var i = 0; i < nbb_cells.length; ++i) {\n",
       "                    if (nbb_cells[i].input_prompt_number == nbb_cell_id) {\n",
       "                        if (nbb_cells[i].get_text() == nbb_unformatted_code) {\n",
       "                             nbb_cells[i].set_text(nbb_formatted_code);\n",
       "                        }\n",
       "                        break;\n",
       "                    }\n",
       "                }\n",
       "            }, 500);\n",
       "            "
      ],
      "text/plain": [
       "<IPython.core.display.Javascript object>"
      ]
     },
     "metadata": {},
     "output_type": "display_data"
    }
   ],
   "source": [
    "format_info = get_format_info(pdf_src)"
   ]
  },
  {
   "cell_type": "code",
   "execution_count": 22,
   "id": "2ab6f424",
   "metadata": {},
   "outputs": [
    {
     "data": {
      "application/javascript": [
       "\n",
       "            setTimeout(function() {\n",
       "                var nbb_cell_id = 22;\n",
       "                var nbb_unformatted_code = \"def write_fmt_file(fmt, pages, limit: int = 0):\\n    writer = PdfWriter()\\n    for pg in pages:\\n        if find_fmt(pg.mediabox.width, pg.mediabox.height, False) == fmt:\\n            writer.add_page(pg)\\n\\n    # Add the metadata\\n    writer.add_metadata(\\n        {\\n            \\\"/Creator\\\": \\\"PDFSort\\\",\\n            \\\"/Producer\\\": \\\"PDFSort\\\",\\n        }\\n    )\\n    if limit > 0 and limit < len(writer.pages):\\n        np = len(writer.pages)\\n        fnum = np // limit + 1\\n        start: int = 0\\n        stop: int = limit\\n        for i in range(fnum):\\n            subwriter = PdfWriter()\\n            for wpg in writer.pages[start : stop if stop <= np else np]:\\n                subwriter.add_page(wpg)\\n            # Save the new PDF to a file\\n            with open(f\\\"current_dir_{fmt}_pdf-{i}.pdf\\\", \\\"wb\\\") as f:\\n                subwriter.write(f)\\n            start += limit\\n            stop += limit\\n            subwriter.close()\\n    else:\\n        # Save the new PDF to a file\\n        with open(f\\\"current_dir_{fmt}_pdf.pdf\\\", \\\"wb\\\") as f:\\n            writer.write(f)\\n    writer.close()\";\n",
       "                var nbb_formatted_code = \"def write_fmt_file(fmt, pages, limit: int = 0):\\n    writer = PdfWriter()\\n    for pg in pages:\\n        if find_fmt(pg.mediabox.width, pg.mediabox.height, False) == fmt:\\n            writer.add_page(pg)\\n\\n    # Add the metadata\\n    writer.add_metadata(\\n        {\\n            \\\"/Creator\\\": \\\"PDFSort\\\",\\n            \\\"/Producer\\\": \\\"PDFSort\\\",\\n        }\\n    )\\n    if limit > 0 and limit < len(writer.pages):\\n        np = len(writer.pages)\\n        fnum = np // limit + 1\\n        start: int = 0\\n        stop: int = limit\\n        for i in range(fnum):\\n            subwriter = PdfWriter()\\n            for wpg in writer.pages[start : stop if stop <= np else np]:\\n                subwriter.add_page(wpg)\\n            # Save the new PDF to a file\\n            with open(f\\\"current_dir_{fmt}_pdf-{i}.pdf\\\", \\\"wb\\\") as f:\\n                subwriter.write(f)\\n            start += limit\\n            stop += limit\\n            subwriter.close()\\n    else:\\n        # Save the new PDF to a file\\n        with open(f\\\"current_dir_{fmt}_pdf.pdf\\\", \\\"wb\\\") as f:\\n            writer.write(f)\\n    writer.close()\";\n",
       "                var nbb_cells = Jupyter.notebook.get_cells();\n",
       "                for (var i = 0; i < nbb_cells.length; ++i) {\n",
       "                    if (nbb_cells[i].input_prompt_number == nbb_cell_id) {\n",
       "                        if (nbb_cells[i].get_text() == nbb_unformatted_code) {\n",
       "                             nbb_cells[i].set_text(nbb_formatted_code);\n",
       "                        }\n",
       "                        break;\n",
       "                    }\n",
       "                }\n",
       "            }, 500);\n",
       "            "
      ],
      "text/plain": [
       "<IPython.core.display.Javascript object>"
      ]
     },
     "metadata": {},
     "output_type": "display_data"
    }
   ],
   "source": [
    "def write_fmt_file(fmt, pages, limit: int = 0):\n",
    "    writer = PdfWriter()\n",
    "    for pg in pages:\n",
    "        if find_fmt(pg.mediabox.width, pg.mediabox.height, False) == fmt:\n",
    "            writer.add_page(pg)\n",
    "\n",
    "    # Add the metadata\n",
    "    writer.add_metadata(\n",
    "        {\n",
    "            \"/Creator\": \"PDFSort\",\n",
    "            \"/Producer\": \"PDFSort\",\n",
    "        }\n",
    "    )\n",
    "    if limit > 0 and limit < len(writer.pages):\n",
    "        np = len(writer.pages)\n",
    "        fnum = np // limit + 1\n",
    "        start: int = 0\n",
    "        stop: int = limit\n",
    "        for i in range(fnum):\n",
    "            subwriter = PdfWriter()\n",
    "            for wpg in writer.pages[start : stop if stop <= np else np]:\n",
    "                subwriter.add_page(wpg)\n",
    "            # Save the new PDF to a file with index\n",
    "            with open(f\"current_dir_{fmt}_pdf-{i}.pdf\", \"wb\") as f:\n",
    "                subwriter.write(f)\n",
    "            start += limit\n",
    "            stop += limit\n",
    "            subwriter.close()\n",
    "    else:\n",
    "        # Save the new PDF to a file\n",
    "        with open(f\"current_dir_{fmt}_pdf.pdf\", \"wb\") as f:\n",
    "            writer.write(f)\n",
    "    writer.close()"
   ]
  },
  {
   "cell_type": "code",
   "execution_count": 21,
   "id": "bfebe33f",
   "metadata": {},
   "outputs": [
    {
     "name": "stdout",
     "output_type": "stream",
     "text": [
      "A4\n",
      "A2\n",
      "A0\n",
      "A1\n"
     ]
    },
    {
     "data": {
      "application/javascript": [
       "\n",
       "            setTimeout(function() {\n",
       "                var nbb_cell_id = 21;\n",
       "                var nbb_unformatted_code = \"for fmt in format_info:\\n    print(fmt)\\n    write_fmt_file(fmt, reader.pages, 2)\";\n",
       "                var nbb_formatted_code = \"for fmt in format_info:\\n    print(fmt)\\n    write_fmt_file(fmt, reader.pages, 2)\";\n",
       "                var nbb_cells = Jupyter.notebook.get_cells();\n",
       "                for (var i = 0; i < nbb_cells.length; ++i) {\n",
       "                    if (nbb_cells[i].input_prompt_number == nbb_cell_id) {\n",
       "                        if (nbb_cells[i].get_text() == nbb_unformatted_code) {\n",
       "                             nbb_cells[i].set_text(nbb_formatted_code);\n",
       "                        }\n",
       "                        break;\n",
       "                    }\n",
       "                }\n",
       "            }, 500);\n",
       "            "
      ],
      "text/plain": [
       "<IPython.core.display.Javascript object>"
      ]
     },
     "metadata": {},
     "output_type": "display_data"
    }
   ],
   "source": [
    "for fmt in format_info:\n",
    "    print(fmt)\n",
    "    write_fmt_file(fmt, reader.pages, 2)"
   ]
  },
  {
   "cell_type": "code",
   "execution_count": 37,
   "id": "f6ff547a",
   "metadata": {},
   "outputs": [
    {
     "data": {
      "application/javascript": [
       "\n",
       "            setTimeout(function() {\n",
       "                var nbb_cell_id = 37;\n",
       "                var nbb_unformatted_code = \"def list_files_recursive(dirpath):\\n    \\\"\\\"\\\"\\n    Recursively get all PDF filenames with full path from a given directory\\n    :return list:\\n    \\\"\\\"\\\"\\n    return glob.glob(os.path.join(os.path.abspath(dirpath), \\\"**\\\", \\\"*.[pP][dD][fF]\\\"), recursive=True)\";\n",
       "                var nbb_formatted_code = \"def list_files_recursive(dirpath):\\n    \\\"\\\"\\\"\\n    Recursively get all PDF filenames with full path from a given directory\\n    :return list:\\n    \\\"\\\"\\\"\\n    return glob.glob(\\n        os.path.join(os.path.abspath(dirpath), \\\"**\\\", \\\"*.[pP][dD][fF]\\\"), recursive=True\\n    )\";\n",
       "                var nbb_cells = Jupyter.notebook.get_cells();\n",
       "                for (var i = 0; i < nbb_cells.length; ++i) {\n",
       "                    if (nbb_cells[i].input_prompt_number == nbb_cell_id) {\n",
       "                        if (nbb_cells[i].get_text() == nbb_unformatted_code) {\n",
       "                             nbb_cells[i].set_text(nbb_formatted_code);\n",
       "                        }\n",
       "                        break;\n",
       "                    }\n",
       "                }\n",
       "            }, 500);\n",
       "            "
      ],
      "text/plain": [
       "<IPython.core.display.Javascript object>"
      ]
     },
     "metadata": {},
     "output_type": "display_data"
    }
   ],
   "source": [
    "def list_files_recursive(dirpath):\n",
    "    \"\"\"\n",
    "    Recursively get all PDF filenames with full path from a given directory\n",
    "    :return list:\n",
    "    \"\"\"\n",
    "    return glob.glob(\n",
    "        os.path.join(os.path.abspath(dirpath), \"**\", \"*.[pP][dD][fF]\"), recursive=True\n",
    "    )"
   ]
  },
  {
   "cell_type": "code",
   "execution_count": 43,
   "id": "e950c3df",
   "metadata": {},
   "outputs": [
    {
     "data": {
      "application/javascript": [
       "\n",
       "            setTimeout(function() {\n",
       "                var nbb_cell_id = 43;\n",
       "                var nbb_unformatted_code = \"# list_files_recursive(\\\"../\\\")\";\n",
       "                var nbb_formatted_code = \"# list_files_recursive(\\\"../\\\")\";\n",
       "                var nbb_cells = Jupyter.notebook.get_cells();\n",
       "                for (var i = 0; i < nbb_cells.length; ++i) {\n",
       "                    if (nbb_cells[i].input_prompt_number == nbb_cell_id) {\n",
       "                        if (nbb_cells[i].get_text() == nbb_unformatted_code) {\n",
       "                             nbb_cells[i].set_text(nbb_formatted_code);\n",
       "                        }\n",
       "                        break;\n",
       "                    }\n",
       "                }\n",
       "            }, 500);\n",
       "            "
      ],
      "text/plain": [
       "<IPython.core.display.Javascript object>"
      ]
     },
     "metadata": {},
     "output_type": "display_data"
    }
   ],
   "source": [
    "# list_files_recursive(\"../\")"
   ]
  },
  {
   "cell_type": "code",
   "execution_count": null,
   "id": "55b7c790",
   "metadata": {},
   "outputs": [],
   "source": []
  }
 ],
 "metadata": {
  "kernelspec": {
   "display_name": "venv",
   "language": "python",
   "name": "venv"
  },
  "language_info": {
   "codemirror_mode": {
    "name": "ipython",
    "version": 3
   },
   "file_extension": ".py",
   "mimetype": "text/x-python",
   "name": "python",
   "nbconvert_exporter": "python",
   "pygments_lexer": "ipython3",
   "version": "3.6.13"
  }
 },
 "nbformat": 4,
 "nbformat_minor": 5
}
